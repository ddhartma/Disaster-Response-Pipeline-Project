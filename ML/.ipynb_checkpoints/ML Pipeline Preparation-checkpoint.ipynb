{
 "cells": [
  {
   "cell_type": "markdown",
   "metadata": {},
   "source": [
    "# ML Pipeline Preparation\n",
    "Follow the instructions below to help you create your ML pipeline.\n",
    "### 1. Import libraries and load data from database.\n",
    "- Import Python libraries\n",
    "- Load dataset from database with [`read_sql_table`](https://pandas.pydata.org/pandas-docs/stable/generated/pandas.read_sql_table.html)\n",
    "- Define feature and target variables X and Y"
   ]
  },
  {
   "cell_type": "code",
   "execution_count": 1,
   "metadata": {},
   "outputs": [],
   "source": [
    "#!pip install git+http://github.com/scikit-learn/scikit-learn.git"
   ]
  },
  {
   "cell_type": "code",
   "execution_count": null,
   "metadata": {},
   "outputs": [
    {
     "name": "stderr",
     "output_type": "stream",
     "text": [
      "[nltk_data] Downloading package punkt to\n",
      "[nltk_data]     /Users/davidhartmann/nltk_data...\n"
     ]
    }
   ],
   "source": [
    "# import libraries\n",
    "import warnings\n",
    "warnings.filterwarnings(\"ignore\")\n",
    "from sqlalchemy import create_engine\n",
    "\n",
    "import numpy as np\n",
    "import pandas as pd\n",
    "import seaborn as sns\n",
    "sns.set_style(\"darkgrid\")\n",
    "import matplotlib\n",
    "#matplotlib.use('nbagg')\n",
    "import matplotlib.pyplot as plt\n",
    "%matplotlib inline\n",
    "from IPython.display import Markdown, display, HTML\n",
    "def printmd(string):\n",
    "    display(Markdown(string))\n",
    "    \n",
    "import pickle\n",
    "    \n",
    "import nltk\n",
    "nltk.download(['punkt', 'wordnet', 'averaged_perceptron_tagger', 'stopwords'])\n",
    "\n",
    "import re\n",
    "from nltk.tokenize import word_tokenize\n",
    "from nltk.stem import WordNetLemmatizer\n",
    "from nltk.corpus import stopwords\n",
    "\n",
    "from sklearn.metrics import confusion_matrix\n",
    "#from sklearn.metrics import multilabel_confusion_matrix\n",
    "from sklearn.model_selection import GridSearchCV\n",
    "from sklearn.ensemble import RandomForestClassifier\n",
    "from sklearn.model_selection import train_test_split\n",
    "from sklearn.pipeline import Pipeline, FeatureUnion\n",
    "from sklearn.base import BaseEstimator, TransformerMixin\n",
    "from sklearn.feature_extraction.text import CountVectorizer, TfidfTransformer\n",
    "\n",
    "from sklearn.multioutput import MultiOutputClassifier\n",
    "\n",
    "from sklearn.metrics import classification_report"
   ]
  },
  {
   "cell_type": "code",
   "execution_count": null,
   "metadata": {},
   "outputs": [],
   "source": [
    "# load data from database\n",
    "def load_data(path_to_database):\n",
    "    \"\"\" Load data from Sqlite database into DataFrame\n",
    "        INPUTS:\n",
    "        ------------\n",
    "        path_to_database - path to Sqlite database\n",
    "        \n",
    "        OUTPUTS:\n",
    "        ------------\n",
    "        df - pandas DataFrame of database\n",
    "    \"\"\"\n",
    "    engine = create_engine(path_to_database)\n",
    "    df = pd.read_sql(\"SELECT * FROM disaster\", engine)\n",
    "    \n",
    "    # X and Y \n",
    "    colnames = df.columns.tolist()\n",
    "    target_colnames = colnames[4:]\n",
    "\n",
    "    X = df.message.values\n",
    "    y = df[target_colnames]\n",
    "    \n",
    "    return df, colnames, target_colnames, X, y\n",
    "\n",
    "df, colnames, target_colnames, X, y = load_data('sqlite:///disaster.db')\n",
    "\n",
    "# Show DataFrame result, shapes, colnames, target\n",
    "display(df.head())\n",
    "printmd('#### Shape of df: ' + str(df.shape))\n",
    "display(y)\n",
    "printmd('#### Shape of y: ' + str(y.shape))\n",
    "printmd('#### colnames')\n",
    "print(colnames)\n",
    "printmd('#### target_colnames')\n",
    "print(target_colnames)"
   ]
  },
  {
   "cell_type": "markdown",
   "metadata": {},
   "source": [
    "### 2. Write a tokenization function to process your text data"
   ]
  },
  {
   "cell_type": "code",
   "execution_count": null,
   "metadata": {},
   "outputs": [],
   "source": [
    "url_regex = 'http[s]?://(?:[a-zA-Z]|[0-9]|[$-_@.&+]|[!*\\(\\),]|(?:%[0-9a-fA-F][0-9a-fA-F]))+'\n",
    "\n",
    "def tokenize(text):\n",
    "    \"\"\" function that will \n",
    "        - replace urls via placeholder,\n",
    "        - tokenize words, \n",
    "        - Remove stop words,\n",
    "        - Lemmatize, normalize all words to lower case, remove white spaces \n",
    "         \n",
    "        INPUTS:\n",
    "        ------------\n",
    "        text - text as string\n",
    "        \n",
    "        OUTPUTS:\n",
    "        ------------\n",
    "        clean_tokens - a list of cleaned words\n",
    "    \n",
    "    \"\"\"\n",
    "    # Detect URLs\n",
    "    detected_urls = re.findall(url_regex, text)\n",
    "    for url in detected_urls:\n",
    "        text = text.replace(url, \"urlplaceholder\")\n",
    "\n",
    "    tokens = word_tokenize(text)\n",
    "    \n",
    "    # Remove stopwords\n",
    "    tokens = [t for t in tokens if t not in stopwords.words('english')]  \n",
    "    \n",
    "    # Lemmatize, normalize all words to lower case, remove white spaces \n",
    "    lemmatizer = WordNetLemmatizer()\n",
    "    clean_tokens = []\n",
    "    for tok in tokens:\n",
    "        clean_tok = lemmatizer.lemmatize(tok).lower().strip()\n",
    "        clean_tokens.append(clean_tok)\n",
    "        \n",
    "    return clean_tokens"
   ]
  },
  {
   "cell_type": "markdown",
   "metadata": {},
   "source": [
    "### 3. Build a machine learning pipeline\n",
    "This machine pipeline should take in the `message` column as input and output classification results on the other 36 categories in the dataset. You may find the [MultiOutputClassifier](http://scikit-learn.org/stable/modules/generated/sklearn.multioutput.MultiOutputClassifier.html) helpful for predicting multiple target variables."
   ]
  },
  {
   "cell_type": "code",
   "execution_count": null,
   "metadata": {},
   "outputs": [],
   "source": [
    "class StartingVerbExtractor(BaseEstimator, TransformerMixin):\n",
    "\n",
    "    def starting_verb(self, text):\n",
    "        sentence_list = nltk.sent_tokenize(text)\n",
    "        for sentence in sentence_list:\n",
    "            pos_tags = nltk.pos_tag(tokenize(sentence))\n",
    "            first_word, first_tag = pos_tags[0]\n",
    "            if first_tag in ['VB', 'VBP'] or first_word == 'RT':\n",
    "                return True\n",
    "        return False\n",
    "\n",
    "    def fit(self, x, y=None):\n",
    "        return self\n",
    "\n",
    "    def transform(self, X):\n",
    "        X_tagged = pd.Series(X).apply(self.starting_verb)\n",
    "        return pd.DataFrame(X_tagged)"
   ]
  },
  {
   "cell_type": "markdown",
   "metadata": {},
   "source": [
    "## Create a pipeline design\n",
    "In order to successfully predict classification results for the 36 categories a pipeline helps to organize data preporcessing and data flow based on ETL and NLP.\n",
    "The used pipeline is structured in the following way:\n",
    "1. Create a CountVectorizer object to create a Bag of Words\n",
    "2. \n"
   ]
  },
  {
   "cell_type": "code",
   "execution_count": null,
   "metadata": {},
   "outputs": [],
   "source": [
    "def build_model(X_train, y_train, pipeline_name='pipeline_1'):\n",
    "    \"\"\" Build a ML pipeline\n",
    "        INPUTS:\n",
    "        ------------\n",
    "        pipeline_name - string name for calling a specific pipeline\n",
    "        X_train - input features for training \n",
    "        y_train - target values\n",
    "        \n",
    "        OUTPUTS:\n",
    "        ------------\n",
    "        pipeline - sklearn pipeline object which is ETL and NLP 'pipelined', i.e. \n",
    "        - tokenization (see tokenize() method), \n",
    "        - Transformer method: vecorization via CountVectorizer \n",
    "        - Transformer method: tfidf (matrix of weights product, i.e. term frequency times inverse document frequency)\n",
    "        - Predictor method: MultiOutputClassifier(RandomForestClassifier()) - used to get predictions for each category\n",
    "        \n",
    "    \"\"\"\n",
    "    if pipeline_name == 'pipeline_1':\n",
    "        print('pipeline_1 chosen')\n",
    "        pipeline = Pipeline([\n",
    "                ('vect', CountVectorizer(tokenizer=tokenize)),\n",
    "                ('tfidf', TfidfTransformer()),\n",
    "                ('clf', MultiOutputClassifier(RandomForestClassifier())),\n",
    "                #('clf', SGDClassifier()),\n",
    "            ])\n",
    "        return pipeline\n",
    "       \n",
    "    \n",
    "    if pipeline_name == 'pipeline_2':\n",
    "        print('pipeline_2 chosen')\n",
    "        pipeline = Pipeline([\n",
    "                ('vect', CountVectorizer(tokenizer=tokenize)),\n",
    "                ('tfidf', TfidfTransformer()),\n",
    "                ('clf', MultiOutputClassifier(RandomForestClassifier()))\n",
    "                #('clf', SGDClassifier()),\n",
    "            ])\n",
    "        \n",
    "        # uncommenting more parameters will give better exploring power but will\n",
    "        # increase processing time in a combinatorial way\n",
    "        parameters = {\n",
    "            'vect__max_df': (0.5, 0.75, 1.0),\n",
    "            # 'vect__max_features': (None, 5000, 10000, 50000),\n",
    "            'vect__ngram_range': ((1, 1), (1, 2)),  # unigrams or bigrams\n",
    "            # 'tfidf__use_idf': (True, False),\n",
    "            # 'tfidf__norm': ('l1', 'l2'),\n",
    "            'clf__estimator__min_samples_split': [2, 4],\n",
    "            #'clf__estimator__max_features': ['log2', 'auto', 'sqrt', None],\n",
    "            #'clf__estimator__criterion': ['gini', 'entropy'],\n",
    "            #'clf__estimator__max_depth': [None, 25, 50, 100, 150, 200],\n",
    "\n",
    "            # FOR SGDClassifier():\n",
    "            #'clf__max_iter': (20,),\n",
    "            #'clf__alpha': (0.00001, 0.000001),\n",
    "            #'clf__penalty': ('l2', 'elasticnet'),\n",
    "            # 'clf__max_iter': (10, 50, 80),\n",
    "        }\n",
    "        cv = GridSearchCV(estimator=pipeline, param_grid=parameters)\n",
    "        cv.fit(X_train,y_train)\n",
    "        return cv\n",
    "\n",
    "        \n",
    "    if pipeline_name == 'pipeline_3':\n",
    "        print('pipeline_3 chosen')\n",
    "        pipeline = Pipeline([\n",
    "        ('features', FeatureUnion([\n",
    "\n",
    "            ('text_pipeline', Pipeline([\n",
    "                ('vect', CountVectorizer(tokenizer=tokenize)),\n",
    "                ('tfidf', TfidfTransformer())\n",
    "            ])),\n",
    "\n",
    "            ('starting_verb', StartingVerbExtractor())\n",
    "        ])),\n",
    "\n",
    "        ('clf', MultiOutputClassifier(RandomForestClassifier()))\n",
    "        ])\n",
    "\n",
    "        parameters = {\n",
    "            'features__text_pipeline__vect__ngram_range': ((1, 1), (1, 2)),\n",
    "            'features__text_pipeline__vect__max_df': (0.5, 0.75, 1.0),\n",
    "            'features__text_pipeline__vect__max_features': (None, 5000, 10000),\n",
    "            'features__text_pipeline__tfidf__use_idf': (True, False),\n",
    "            'clf__n_estimators': [50, 100, 200],\n",
    "            'clf__min_samples_split': [2, 3, 4],\n",
    "            'features__transformer_weights': (\n",
    "                {'text_pipeline': 1, 'starting_verb': 0.5},\n",
    "                {'text_pipeline': 0.5, 'starting_verb': 1},\n",
    "                {'text_pipeline': 0.8, 'starting_verb': 1},\n",
    "            )\n",
    "        }\n",
    "        \n",
    "        cv = GridSearchCV(estimator=pipeline, param_grid=parameters)\n",
    "        cv.fit(X_train,y_train)\n",
    "        return cv"
   ]
  },
  {
   "cell_type": "code",
   "execution_count": null,
   "metadata": {},
   "outputs": [],
   "source": [
    "def display_results(model, y_test, y_pred):\n",
    "    \"\"\" Get a classification report from testing results including precision, recall, f1-score an accuracy \n",
    "        INPUTS:\n",
    "        ------------\n",
    "        model - the trained model based on the actual pipeline\n",
    "        y_test - DataFrame of true target values \n",
    "        y_pred - numpy arrays of predicted targets\n",
    "        \n",
    "        OUTPUTS:\n",
    "        ------------\n",
    "        print statements for precision, recall, f1-score an accuracy for each class\n",
    "    \"\"\"\n",
    "    \n",
    "    #print(classification_report(y_test, y_pred, target_names=y_test.keys()))\n",
    "    accuracy = (y_pred == y_test).mean()\n",
    "    df_classification_report = pd.DataFrame(classification_report(y_test, y_pred, target_names=y_test.keys(),  output_dict=True))\n",
    "    df_classification_report = pd.concat([df_classification_report.T, accuracy], axis=1).reindex(df_classification_report.T.index)\n",
    "    df_classification_report.columns = ['f1_score', 'precision', 'recall', 'support', 'accuracy']\n",
    "    display(df_classification_report)\n",
    "    print('')\n",
    "    printmd('#### Total accuracy = ' + str(round(accuracy.mean(),2)))"
   ]
  },
  {
   "cell_type": "markdown",
   "metadata": {},
   "source": [
    "### 4. Train pipeline\n",
    "- Split data into train and test sets\n",
    "- Train pipeline"
   ]
  },
  {
   "cell_type": "code",
   "execution_count": null,
   "metadata": {},
   "outputs": [],
   "source": [
    "def train_predict(pipeline_name):\n",
    "    df, colnames, target_colnames, X, y = load_data('sqlite:///disaster.db')\n",
    "    X_train, X_test, y_train, y_test = train_test_split(X, y, test_size=0.2, random_state=42)\n",
    "\n",
    "    model = build_model(X_train, y_train, pipeline_name)\n",
    "    print('Training started...')\n",
    "    model.fit(X_train, y_train)\n",
    "    print('... training finished')\n",
    "    y_pred = model.predict(X_test)\n",
    "\n",
    "    display_results(model, y_test, y_pred)\n",
    "    \n",
    "    return model, X_train, X_test, y_train, y_test, y_pred"
   ]
  },
  {
   "cell_type": "code",
   "execution_count": null,
   "metadata": {},
   "outputs": [],
   "source": [
    "def save_model(model, path):\n",
    "    \"\"\" Saves the model\n",
    "        \n",
    "        INPUTS:\n",
    "        ------------\n",
    "        model: model to be saved\n",
    "        path: model filepath \n",
    "        \n",
    "        OUTPUTS:\n",
    "        ------------\n",
    "        save model as a pickle file\n",
    "    \"\"\"  \n",
    "    filename = 'finalized_model.sav'\n",
    "    pickle.dump(model, open(filename, 'wb'))"
   ]
  },
  {
   "cell_type": "markdown",
   "metadata": {},
   "source": [
    "### 5. Test your model\n",
    "Report the f1 score, precision and recall for each output category of the dataset. You can do this by iterating through the columns and calling sklearn's `classification_report` on each."
   ]
  },
  {
   "cell_type": "code",
   "execution_count": null,
   "metadata": {},
   "outputs": [],
   "source": [
    "# predict on test data\n",
    "model_1, X_train, X_test, y_train, y_test, y_pred = train_predict(pipeline_name='pipeline_1')\n",
    "save_model(model_1, 'finalized_model_1.sav')"
   ]
  },
  {
   "cell_type": "code",
   "execution_count": null,
   "metadata": {},
   "outputs": [],
   "source": [
    "print(type(y_test))\n",
    "print(type(y_pred))"
   ]
  },
  {
   "cell_type": "markdown",
   "metadata": {},
   "source": [
    "### 6. Improve your model\n",
    "Use grid search to find better parameters. "
   ]
  },
  {
   "cell_type": "code",
   "execution_count": null,
   "metadata": {},
   "outputs": [],
   "source": [
    "# predict on test data\n",
    "model_2, X_train, X_test, y_train, y_test, y_pred = train_predict(pipeline_name='pipeline_2')\n",
    "save_model(model_2, 'finalized_model_2.sav')"
   ]
  },
  {
   "cell_type": "markdown",
   "metadata": {},
   "source": [
    "### 7. Test your model\n",
    "Show the accuracy, precision, and recall of the tuned model.  \n",
    "\n",
    "Since this project focuses on code quality, process, and  pipelines, there is no minimum performance metric needed to pass. However, make sure to fine tune your models for accuracy, precision and recall to make your project stand out - especially for your portfolio!"
   ]
  },
  {
   "cell_type": "code",
   "execution_count": null,
   "metadata": {},
   "outputs": [],
   "source": []
  },
  {
   "cell_type": "code",
   "execution_count": null,
   "metadata": {},
   "outputs": [],
   "source": []
  },
  {
   "cell_type": "markdown",
   "metadata": {},
   "source": [
    "### 8. Try improving your model further. Here are a few ideas:\n",
    "* try other machine learning algorithms\n",
    "* add other features besides the TF-IDF"
   ]
  },
  {
   "cell_type": "code",
   "execution_count": null,
   "metadata": {},
   "outputs": [],
   "source": [
    "# predict on test data\n",
    "model_3, X_train, X_test, y_train, y_test, y_pred = train_predict(pipeline_name='pipeline_3')\n",
    "save_model(model_3, 'finalized_model_3.sav')"
   ]
  },
  {
   "cell_type": "markdown",
   "metadata": {},
   "source": [
    "### 9. Export your model as a pickle file"
   ]
  },
  {
   "cell_type": "code",
   "execution_count": null,
   "metadata": {},
   "outputs": [],
   "source": [
    "def save_model(model, path):\n",
    "    \"\"\" Saves the model\n",
    "        INPUTS:\n",
    "        ------------\n",
    "        model: The model to be saved\n",
    "        path: model Filepath \n",
    "        \n",
    "        OUTPUTS:\n",
    "        ------------\n",
    "        save the model as a pickle file\n",
    "    \"\"\"  \n",
    "    filename = 'finalized_model.sav'\n",
    "    pickle.dump(model, open(filename, 'wb'))"
   ]
  },
  {
   "cell_type": "markdown",
   "metadata": {},
   "source": [
    "### 10. Use this notebook to complete `train.py`\n",
    "Use the template file attached in the Resources folder to write a script that runs the steps above to create a database and export a model based on a new dataset specified by the user."
   ]
  },
  {
   "cell_type": "code",
   "execution_count": null,
   "metadata": {},
   "outputs": [],
   "source": []
  }
 ],
 "metadata": {
  "hide_input": false,
  "kernelspec": {
   "display_name": "Python 3",
   "language": "python",
   "name": "python3"
  },
  "language_info": {
   "codemirror_mode": {
    "name": "ipython",
    "version": 3
   },
   "file_extension": ".py",
   "mimetype": "text/x-python",
   "name": "python",
   "nbconvert_exporter": "python",
   "pygments_lexer": "ipython3",
   "version": "3.7.3"
  }
 },
 "nbformat": 4,
 "nbformat_minor": 2
}
